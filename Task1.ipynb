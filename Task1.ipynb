{
 "cells": [
  {
   "cell_type": "code",
   "execution_count": 32,
   "id": "35f91933",
   "metadata": {},
   "outputs": [
    {
     "name": "stdout",
     "output_type": "stream",
     "text": [
      "Defaulting to user installation because normal site-packages is not writeable\n",
      "Requirement already satisfied: pandas in c:\\programdata\\anaconda3\\lib\\site-packages (1.5.3)\n",
      "Requirement already satisfied: python-dateutil>=2.8.1 in c:\\programdata\\anaconda3\\lib\\site-packages (from pandas) (2.8.2)\n",
      "Requirement already satisfied: pytz>=2020.1 in c:\\programdata\\anaconda3\\lib\\site-packages (from pandas) (2022.7)\n",
      "Requirement already satisfied: numpy>=1.21.0 in c:\\programdata\\anaconda3\\lib\\site-packages (from pandas) (1.24.3)\n",
      "Requirement already satisfied: six>=1.5 in c:\\programdata\\anaconda3\\lib\\site-packages (from python-dateutil>=2.8.1->pandas) (1.16.0)\n",
      "Note: you may need to restart the kernel to use updated packages.\n"
     ]
    }
   ],
   "source": [
    "pip install pandas"
   ]
  },
  {
   "cell_type": "code",
   "execution_count": 33,
   "id": "9a194103",
   "metadata": {},
   "outputs": [],
   "source": [
    "import pandas as pd\n",
    "import matplotlib.pyplot as plt\n",
    "import numpy as np\n",
    "\n",
    "df = pd.read_csv('Finance_dataset.csv')"
   ]
  },
  {
   "cell_type": "code",
   "execution_count": 34,
   "id": "154af76e",
   "metadata": {},
   "outputs": [
    {
     "data": {
      "text/html": [
       "<div>\n",
       "<style scoped>\n",
       "    .dataframe tbody tr th:only-of-type {\n",
       "        vertical-align: middle;\n",
       "    }\n",
       "\n",
       "    .dataframe tbody tr th {\n",
       "        vertical-align: top;\n",
       "    }\n",
       "\n",
       "    .dataframe thead th {\n",
       "        text-align: right;\n",
       "    }\n",
       "</style>\n",
       "<table border=\"1\" class=\"dataframe\">\n",
       "  <thead>\n",
       "    <tr style=\"text-align: right;\">\n",
       "      <th></th>\n",
       "      <th>Segment</th>\n",
       "      <th>Country</th>\n",
       "      <th>Product</th>\n",
       "      <th>Discount Band</th>\n",
       "      <th>Units Sold</th>\n",
       "      <th>Manufacturing Price</th>\n",
       "      <th>Sale Price</th>\n",
       "      <th>Gross Sales</th>\n",
       "      <th>Discounts</th>\n",
       "      <th>Sales</th>\n",
       "      <th>COGS</th>\n",
       "      <th>Profit</th>\n",
       "      <th>Date</th>\n",
       "      <th>Month Number</th>\n",
       "      <th>Month Name</th>\n",
       "      <th>Year</th>\n",
       "    </tr>\n",
       "  </thead>\n",
       "  <tbody>\n",
       "    <tr>\n",
       "      <th>0</th>\n",
       "      <td>Government</td>\n",
       "      <td>Canada</td>\n",
       "      <td>Carretera</td>\n",
       "      <td>None</td>\n",
       "      <td>$1,618.50</td>\n",
       "      <td>$3.00</td>\n",
       "      <td>$20.00</td>\n",
       "      <td>$32,370.00</td>\n",
       "      <td>$-</td>\n",
       "      <td>$32,370.00</td>\n",
       "      <td>$16,185.00</td>\n",
       "      <td>$16,185.00</td>\n",
       "      <td>01/01/2014</td>\n",
       "      <td>1</td>\n",
       "      <td>January</td>\n",
       "      <td>2014</td>\n",
       "    </tr>\n",
       "    <tr>\n",
       "      <th>1</th>\n",
       "      <td>Government</td>\n",
       "      <td>Germany</td>\n",
       "      <td>Carretera</td>\n",
       "      <td>None</td>\n",
       "      <td>$1,321.00</td>\n",
       "      <td>$3.00</td>\n",
       "      <td>$20.00</td>\n",
       "      <td>$26,420.00</td>\n",
       "      <td>$-</td>\n",
       "      <td>$26,420.00</td>\n",
       "      <td>$13,210.00</td>\n",
       "      <td>$13,210.00</td>\n",
       "      <td>01/01/2014</td>\n",
       "      <td>1</td>\n",
       "      <td>January</td>\n",
       "      <td>2014</td>\n",
       "    </tr>\n",
       "    <tr>\n",
       "      <th>2</th>\n",
       "      <td>Midmarket</td>\n",
       "      <td>France</td>\n",
       "      <td>Carretera</td>\n",
       "      <td>None</td>\n",
       "      <td>$2,178.00</td>\n",
       "      <td>$3.00</td>\n",
       "      <td>$15.00</td>\n",
       "      <td>$32,670.00</td>\n",
       "      <td>$-</td>\n",
       "      <td>$32,670.00</td>\n",
       "      <td>$21,780.00</td>\n",
       "      <td>$10,890.00</td>\n",
       "      <td>01/06/2014</td>\n",
       "      <td>6</td>\n",
       "      <td>June</td>\n",
       "      <td>2014</td>\n",
       "    </tr>\n",
       "    <tr>\n",
       "      <th>3</th>\n",
       "      <td>Midmarket</td>\n",
       "      <td>Germany</td>\n",
       "      <td>Carretera</td>\n",
       "      <td>None</td>\n",
       "      <td>$888.00</td>\n",
       "      <td>$3.00</td>\n",
       "      <td>$15.00</td>\n",
       "      <td>$13,320.00</td>\n",
       "      <td>$-</td>\n",
       "      <td>$13,320.00</td>\n",
       "      <td>$8,880.00</td>\n",
       "      <td>$4,440.00</td>\n",
       "      <td>01/06/2014</td>\n",
       "      <td>6</td>\n",
       "      <td>June</td>\n",
       "      <td>2014</td>\n",
       "    </tr>\n",
       "    <tr>\n",
       "      <th>4</th>\n",
       "      <td>Midmarket</td>\n",
       "      <td>Mexico</td>\n",
       "      <td>Carretera</td>\n",
       "      <td>None</td>\n",
       "      <td>$2,470.00</td>\n",
       "      <td>$3.00</td>\n",
       "      <td>$15.00</td>\n",
       "      <td>$37,050.00</td>\n",
       "      <td>$-</td>\n",
       "      <td>$37,050.00</td>\n",
       "      <td>$24,700.00</td>\n",
       "      <td>$12,350.00</td>\n",
       "      <td>01/06/2014</td>\n",
       "      <td>6</td>\n",
       "      <td>June</td>\n",
       "      <td>2014</td>\n",
       "    </tr>\n",
       "  </tbody>\n",
       "</table>\n",
       "</div>"
      ],
      "text/plain": [
       "      Segment  Country     Product   Discount Band   Units Sold   \\\n",
       "0  Government   Canada   Carretera            None    $1,618.50    \n",
       "1  Government  Germany   Carretera            None    $1,321.00    \n",
       "2   Midmarket   France   Carretera            None    $2,178.00    \n",
       "3   Midmarket  Germany   Carretera            None      $888.00    \n",
       "4   Midmarket   Mexico   Carretera            None    $2,470.00    \n",
       "\n",
       "   Manufacturing Price   Sale Price   Gross Sales   Discounts         Sales   \\\n",
       "0                $3.00       $20.00    $32,370.00        $-      $32,370.00    \n",
       "1                $3.00       $20.00    $26,420.00        $-      $26,420.00    \n",
       "2                $3.00       $15.00    $32,670.00        $-      $32,670.00    \n",
       "3                $3.00       $15.00    $13,320.00        $-      $13,320.00    \n",
       "4                $3.00       $15.00    $37,050.00        $-      $37,050.00    \n",
       "\n",
       "          COGS        Profit         Date  Month Number  Month Name   Year  \n",
       "0   $16,185.00    $16,185.00   01/01/2014             1     January   2014  \n",
       "1   $13,210.00    $13,210.00   01/01/2014             1     January   2014  \n",
       "2   $21,780.00    $10,890.00   01/06/2014             6        June   2014  \n",
       "3    $8,880.00     $4,440.00   01/06/2014             6        June   2014  \n",
       "4   $24,700.00    $12,350.00   01/06/2014             6        June   2014  "
      ]
     },
     "execution_count": 34,
     "metadata": {},
     "output_type": "execute_result"
    }
   ],
   "source": [
    "df.head()"
   ]
  },
  {
   "cell_type": "code",
   "execution_count": 35,
   "id": "752fe14e",
   "metadata": {},
   "outputs": [
    {
     "data": {
      "text/plain": [
       "(700, 16)"
      ]
     },
     "execution_count": 35,
     "metadata": {},
     "output_type": "execute_result"
    }
   ],
   "source": [
    "df.shape"
   ]
  },
  {
   "cell_type": "code",
   "execution_count": 36,
   "id": "7d5a4c7d",
   "metadata": {},
   "outputs": [
    {
     "data": {
      "text/plain": [
       "Index(['Segment', 'Country', ' Product ', ' Discount Band ', ' Units Sold ',\n",
       "       ' Manufacturing Price ', ' Sale Price ', ' Gross Sales ', ' Discounts ',\n",
       "       '  Sales ', ' COGS ', ' Profit ', 'Date', 'Month Number',\n",
       "       ' Month Name ', 'Year'],\n",
       "      dtype='object')"
      ]
     },
     "execution_count": 36,
     "metadata": {},
     "output_type": "execute_result"
    }
   ],
   "source": [
    "df.columns"
   ]
  },
  {
   "cell_type": "code",
   "execution_count": 37,
   "id": "405ec45f",
   "metadata": {},
   "outputs": [],
   "source": [
    "duplicated_rows = df[df.duplicated()]\n",
    "data_cleaned = df.drop_duplicates()"
   ]
  },
  {
   "cell_type": "code",
   "execution_count": 38,
   "id": "94c60790",
   "metadata": {},
   "outputs": [
    {
     "name": "stderr",
     "output_type": "stream",
     "text": [
      "C:\\Users\\Vidmantė\\AppData\\Local\\Temp\\ipykernel_5028\\3919424606.py:1: FutureWarning: The default value of regex will change from True to False in a future version. In addition, single character regular expressions will *not* be treated as literal strings when regex=True.\n",
      "  df['  Sales '] = df['  Sales '].str.replace(',', '').str.replace('$', '').str.replace('-', '').str.replace('(', '').str.replace(')', '')\n",
      "C:\\Users\\Vidmantė\\AppData\\Local\\Temp\\ipykernel_5028\\3919424606.py:2: FutureWarning: The default value of regex will change from True to False in a future version. In addition, single character regular expressions will *not* be treated as literal strings when regex=True.\n",
      "  df[' Profit '] = df[' Profit '].str.replace(',', '').str.replace('$', '').str.replace('-', '').str.replace('(', '').str.replace(')', '').str.replace('    ', '')\n",
      "C:\\Users\\Vidmantė\\AppData\\Local\\Temp\\ipykernel_5028\\3919424606.py:3: FutureWarning: The default value of regex will change from True to False in a future version. In addition, single character regular expressions will *not* be treated as literal strings when regex=True.\n",
      "  df[' Units Sold '] = df[' Units Sold '].str.replace(',', '').str.replace('$', '').str.replace('-', '').str.replace('(', '').str.replace(')', '').str.replace('    ', '')\n",
      "C:\\Users\\Vidmantė\\AppData\\Local\\Temp\\ipykernel_5028\\3919424606.py:4: FutureWarning: The default value of regex will change from True to False in a future version. In addition, single character regular expressions will *not* be treated as literal strings when regex=True.\n",
      "  df[' Sale Price '] = df[' Sale Price '].str.replace(',', '').str.replace('$', '').str.replace('-', '').str.replace('(', '').str.replace(')', '').str.replace('    ', '')\n"
     ]
    }
   ],
   "source": [
    "df['  Sales '] = df['  Sales '].str.replace(',', '').str.replace('$', '').str.replace('-', '').str.replace('(', '').str.replace(')', '')\n",
    "df[' Profit '] = df[' Profit '].str.replace(',', '').str.replace('$', '').str.replace('-', '').str.replace('(', '').str.replace(')', '').str.replace('    ', '')\n",
    "df[' Units Sold '] = df[' Units Sold '].str.replace(',', '').str.replace('$', '').str.replace('-', '').str.replace('(', '').str.replace(')', '').str.replace('    ', '')\n",
    "df[' Sale Price '] = df[' Sale Price '].str.replace(',', '').str.replace('$', '').str.replace('-', '').str.replace('(', '').str.replace(')', '').str.replace('    ', '')"
   ]
  },
  {
   "cell_type": "code",
   "execution_count": 39,
   "id": "b344891e",
   "metadata": {},
   "outputs": [],
   "source": [
    "numeric_df = df.apply(pd.to_numeric, errors='coerce')"
   ]
  },
  {
   "cell_type": "code",
   "execution_count": 40,
   "id": "14f6ef46",
   "metadata": {},
   "outputs": [
    {
     "name": "stdout",
     "output_type": "stream",
     "text": [
      "False\n"
     ]
    }
   ],
   "source": [
    "is_all_numeric = not numeric_df.isnull().values.any()\n",
    "print(is_all_numeric)"
   ]
  },
  {
   "cell_type": "code",
   "execution_count": 41,
   "id": "d020608a",
   "metadata": {},
   "outputs": [],
   "source": [
    "df[' Profit '].replace('', np.nan, inplace=True)\n",
    "df[' Units Sold '].replace('', np.nan, inplace=True)\n",
    "df[' Sale Price '].replace('', np.nan, inplace=True)"
   ]
  },
  {
   "cell_type": "code",
   "execution_count": 42,
   "id": "e81bf6f5",
   "metadata": {},
   "outputs": [],
   "source": [
    "df[' Profit '] = df[' Profit '].astype(float)\n",
    "df['  Sales '] = df['  Sales '].astype(float)\n",
    "df[' Units Sold '] = df[' Units Sold '].astype(float)\n",
    "df[' Sale Price '] = df[' Sale Price '].astype(float)"
   ]
  },
  {
   "cell_type": "code",
   "execution_count": 43,
   "id": "d8614685",
   "metadata": {},
   "outputs": [],
   "source": [
    "df.dropna(subset=[' Profit '], inplace=True)\n",
    "df.dropna(subset=[' Units Sold '], inplace=True)\n",
    "df.dropna(subset=[' Sale Price '], inplace=True)"
   ]
  },
  {
   "cell_type": "code",
   "execution_count": 44,
   "id": "b7cada24",
   "metadata": {},
   "outputs": [
    {
     "data": {
      "text/html": [
       "<div>\n",
       "<style scoped>\n",
       "    .dataframe tbody tr th:only-of-type {\n",
       "        vertical-align: middle;\n",
       "    }\n",
       "\n",
       "    .dataframe tbody tr th {\n",
       "        vertical-align: top;\n",
       "    }\n",
       "\n",
       "    .dataframe thead th {\n",
       "        text-align: right;\n",
       "    }\n",
       "</style>\n",
       "<table border=\"1\" class=\"dataframe\">\n",
       "  <thead>\n",
       "    <tr style=\"text-align: right;\">\n",
       "      <th></th>\n",
       "      <th>Units Sold</th>\n",
       "      <th>Sale Price</th>\n",
       "      <th>Sales</th>\n",
       "      <th>Profit</th>\n",
       "      <th>Month Number</th>\n",
       "      <th>Year</th>\n",
       "    </tr>\n",
       "  </thead>\n",
       "  <tbody>\n",
       "    <tr>\n",
       "      <th>count</th>\n",
       "      <td>695.000000</td>\n",
       "      <td>695.000000</td>\n",
       "      <td>6.950000e+02</td>\n",
       "      <td>695.000000</td>\n",
       "      <td>695.000000</td>\n",
       "      <td>695.000000</td>\n",
       "    </tr>\n",
       "    <tr>\n",
       "      <th>mean</th>\n",
       "      <td>1609.601439</td>\n",
       "      <td>118.381295</td>\n",
       "      <td>1.695977e+05</td>\n",
       "      <td>26544.380993</td>\n",
       "      <td>7.902158</td>\n",
       "      <td>2013.748201</td>\n",
       "    </tr>\n",
       "    <tr>\n",
       "      <th>std</th>\n",
       "      <td>867.816570</td>\n",
       "      <td>137.266196</td>\n",
       "      <td>2.374409e+05</td>\n",
       "      <td>41515.104658</td>\n",
       "      <td>3.373773</td>\n",
       "      <td>0.434359</td>\n",
       "    </tr>\n",
       "    <tr>\n",
       "      <th>min</th>\n",
       "      <td>200.000000</td>\n",
       "      <td>7.000000</td>\n",
       "      <td>1.655080e+03</td>\n",
       "      <td>285.600000</td>\n",
       "      <td>1.000000</td>\n",
       "      <td>2013.000000</td>\n",
       "    </tr>\n",
       "    <tr>\n",
       "      <th>25%</th>\n",
       "      <td>905.000000</td>\n",
       "      <td>12.000000</td>\n",
       "      <td>1.585118e+04</td>\n",
       "      <td>4013.630000</td>\n",
       "      <td>6.000000</td>\n",
       "      <td>2013.000000</td>\n",
       "    </tr>\n",
       "    <tr>\n",
       "      <th>50%</th>\n",
       "      <td>1545.000000</td>\n",
       "      <td>20.000000</td>\n",
       "      <td>3.473610e+04</td>\n",
       "      <td>11135.600000</td>\n",
       "      <td>9.000000</td>\n",
       "      <td>2014.000000</td>\n",
       "    </tr>\n",
       "    <tr>\n",
       "      <th>75%</th>\n",
       "      <td>2230.750000</td>\n",
       "      <td>300.000000</td>\n",
       "      <td>2.615750e+05</td>\n",
       "      <td>23918.500000</td>\n",
       "      <td>10.000000</td>\n",
       "      <td>2014.000000</td>\n",
       "    </tr>\n",
       "    <tr>\n",
       "      <th>max</th>\n",
       "      <td>4492.500000</td>\n",
       "      <td>350.000000</td>\n",
       "      <td>1.159200e+06</td>\n",
       "      <td>262200.000000</td>\n",
       "      <td>12.000000</td>\n",
       "      <td>2014.000000</td>\n",
       "    </tr>\n",
       "  </tbody>\n",
       "</table>\n",
       "</div>"
      ],
      "text/plain": [
       "        Units Sold    Sale Price         Sales         Profit   Month Number  \\\n",
       "count    695.000000    695.000000  6.950000e+02     695.000000    695.000000   \n",
       "mean    1609.601439    118.381295  1.695977e+05   26544.380993      7.902158   \n",
       "std      867.816570    137.266196  2.374409e+05   41515.104658      3.373773   \n",
       "min      200.000000      7.000000  1.655080e+03     285.600000      1.000000   \n",
       "25%      905.000000     12.000000  1.585118e+04    4013.630000      6.000000   \n",
       "50%     1545.000000     20.000000  3.473610e+04   11135.600000      9.000000   \n",
       "75%     2230.750000    300.000000  2.615750e+05   23918.500000     10.000000   \n",
       "max     4492.500000    350.000000  1.159200e+06  262200.000000     12.000000   \n",
       "\n",
       "              Year  \n",
       "count   695.000000  \n",
       "mean   2013.748201  \n",
       "std       0.434359  \n",
       "min    2013.000000  \n",
       "25%    2013.000000  \n",
       "50%    2014.000000  \n",
       "75%    2014.000000  \n",
       "max    2014.000000  "
      ]
     },
     "execution_count": 44,
     "metadata": {},
     "output_type": "execute_result"
    }
   ],
   "source": [
    "df.describe()"
   ]
  },
  {
   "cell_type": "code",
   "execution_count": 45,
   "id": "6ad105d8",
   "metadata": {},
   "outputs": [],
   "source": [
    "df[' Profit '] = df[' Profit '].astype(int)\n",
    "df['  Sales '] = df['  Sales '].astype(int)\n",
    "df[' Units Sold '] = df[' Units Sold '].astype(int)\n",
    "df[' Sale Price '] = df[' Sale Price '].astype(int)"
   ]
  },
  {
   "cell_type": "code",
   "execution_count": 46,
   "id": "249f0828",
   "metadata": {},
   "outputs": [],
   "source": [
    "import matplotlib.pyplot as plt\n",
    "import seaborn as sns"
   ]
  },
  {
   "cell_type": "code",
   "execution_count": 48,
   "id": "500bde97",
   "metadata": {},
   "outputs": [
    {
     "name": "stdout",
     "output_type": "stream",
     "text": [
      "      Profit                    Country\n",
      "0       16185                    Canada\n",
      "1       13210                   Germany\n",
      "2       10890                    France\n",
      "3        4440                   Germany\n",
      "4       12350                    Mexico\n",
      "..        ...                       ...\n",
      "695     12375                    France\n",
      "696      2730                    Mexico\n",
      "697      1299                    Mexico\n",
      "698       686                    Canada\n",
      "699     13003  United States of America\n",
      "\n",
      "[695 rows x 2 columns]\n"
     ]
    }
   ],
   "source": [
    "df2 = df.loc[:, [' Profit ', 'Country']]\n",
    "print(df2)"
   ]
  },
  {
   "cell_type": "code",
   "execution_count": 50,
   "id": "ef509928",
   "metadata": {},
   "outputs": [
    {
     "name": "stdout",
     "output_type": "stream",
     "text": [
      "Country\n",
      "France                      4032445\n",
      "Germany                     3961339\n",
      "Canada                      3858162\n",
      "United States of America    3397304\n",
      "Mexico                      3198884\n",
      "Name:  Profit , dtype: int32\n"
     ]
    }
   ],
   "source": [
    "df2=df.groupby(['Country'])[' Profit '].sum().sort_values(ascending=False).head()\n",
    "print(df2)"
   ]
  },
  {
   "cell_type": "markdown",
   "id": "06d61c04",
   "metadata": {},
   "source": [
    "##### TASK2. Profit for each country (in descending order)"
   ]
  },
  {
   "cell_type": "code",
   "execution_count": 52,
   "id": "f66b34ab",
   "metadata": {},
   "outputs": [
    {
     "name": "stdout",
     "output_type": "stream",
     "text": [
      "      Profit      Product \n",
      "0       16185   Carretera \n",
      "1       13210   Carretera \n",
      "2       10890   Carretera \n",
      "3        4440   Carretera \n",
      "4       12350   Carretera \n",
      "..        ...          ...\n",
      "695     12375    Amarilla \n",
      "696      2730    Amarilla \n",
      "697      1299     Montana \n",
      "698       686       Paseo \n",
      "699     13003         VTT \n",
      "\n",
      "[695 rows x 2 columns]\n"
     ]
    }
   ],
   "source": [
    "df3 = df.loc[:, [' Profit ', ' Product ']]\n",
    "print(df3)"
   ]
  },
  {
   "cell_type": "code",
   "execution_count": 53,
   "id": "0aec7556",
   "metadata": {},
   "outputs": [
    {
     "name": "stdout",
     "output_type": "stream",
     "text": [
      " Product \n",
      " Paseo         5038472\n",
      " VTT           3278062\n",
      " Amarilla      3057955\n",
      " Velo          2556872\n",
      " Carretera     2288997\n",
      "Name:  Profit , dtype: int32\n"
     ]
    }
   ],
   "source": [
    "df3=df.groupby([' Product '])[' Profit '].sum().sort_values(ascending=False).head()\n",
    "print(df3)"
   ]
  },
  {
   "cell_type": "markdown",
   "id": "86b3ae19",
   "metadata": {},
   "source": [
    "##### TASK2. Profit for each product (in descending order)"
   ]
  },
  {
   "cell_type": "code",
   "execution_count": 54,
   "id": "a464a907",
   "metadata": {},
   "outputs": [],
   "source": [
    "df['Revenue'] = df[' Units Sold '] * df[' Sale Price ']"
   ]
  },
  {
   "cell_type": "code",
   "execution_count": 55,
   "id": "fedb5fec",
   "metadata": {},
   "outputs": [
    {
     "name": "stdout",
     "output_type": "stream",
     "text": [
      "              Segment                   Country     Product   Discount Band   \\\n",
      "0          Government                    Canada   Carretera            None    \n",
      "1          Government                   Germany   Carretera            None    \n",
      "2           Midmarket                    France   Carretera            None    \n",
      "3           Midmarket                   Germany   Carretera            None    \n",
      "4           Midmarket                    Mexico   Carretera            None    \n",
      "..                ...                       ...          ...             ...   \n",
      "695    Small Business                    France    Amarilla            High    \n",
      "696    Small Business                    Mexico    Amarilla            High    \n",
      "697        Government                    Mexico     Montana            High    \n",
      "698        Government                    Canada       Paseo            High    \n",
      "699  Channel Partners  United States of America         VTT            High    \n",
      "\n",
      "      Units Sold   Manufacturing Price    Sale Price     Gross Sales   \\\n",
      "0            1618                $3.00             20     $32,370.00    \n",
      "1            1321                $3.00             20     $26,420.00    \n",
      "2            2178                $3.00             15     $32,670.00    \n",
      "3             888                $3.00             15     $13,320.00    \n",
      "4            2470                $3.00             15     $37,050.00    \n",
      "..            ...                   ...           ...             ...   \n",
      "695          2475              $260.00            300   $7,42,500.00    \n",
      "696           546              $260.00            300   $1,63,800.00    \n",
      "697          1368                $5.00              7      $9,576.00    \n",
      "698           723               $10.00              7      $5,061.00    \n",
      "699          1806              $250.00             12     $21,672.00    \n",
      "\n",
      "         Discounts     Sales            COGS    Profit         Date  \\\n",
      "0             $-        32370     $16,185.00      16185  01/01/2014   \n",
      "1             $-        26420     $13,210.00      13210  01/01/2014   \n",
      "2             $-        32670     $21,780.00      10890  01/06/2014   \n",
      "3             $-        13320      $8,880.00       4440  01/06/2014   \n",
      "4             $-        37050     $24,700.00      12350  01/06/2014   \n",
      "..              ...       ...             ...       ...         ...   \n",
      "695   $1,11,375.00     631125   $6,18,750.00      12375  01/03/2014   \n",
      "696     $24,570.00     139230   $1,36,500.00       2730  01/10/2014   \n",
      "697      $1,436.40       8139      $6,840.00       1299  01/02/2014   \n",
      "698        $759.15       4301      $3,615.00        686  01/04/2014   \n",
      "699      $3,250.80      18421      $5,418.00      13003  01/05/2014   \n",
      "\n",
      "     Month Number  Month Name   Year  Revenue  \n",
      "0               1     January   2014    32360  \n",
      "1               1     January   2014    26420  \n",
      "2               6        June   2014    32670  \n",
      "3               6        June   2014    13320  \n",
      "4               6        June   2014    37050  \n",
      "..            ...          ...   ...      ...  \n",
      "695             3       March   2014   742500  \n",
      "696            10     October   2014   163800  \n",
      "697             2    February   2014     9576  \n",
      "698             4       April   2014     5061  \n",
      "699             5         May   2014    21672  \n",
      "\n",
      "[695 rows x 17 columns]\n"
     ]
    }
   ],
   "source": [
    "print(df)"
   ]
  },
  {
   "cell_type": "code",
   "execution_count": 56,
   "id": "922e4bbd",
   "metadata": {},
   "outputs": [
    {
     "name": "stdout",
     "output_type": "stream",
     "text": [
      "     Revenue                   Country\n",
      "0      32360                    Canada\n",
      "1      26420                   Germany\n",
      "2      32670                    France\n",
      "3      13320                   Germany\n",
      "4      37050                    Mexico\n",
      "..       ...                       ...\n",
      "695   742500                    France\n",
      "696   163800                    Mexico\n",
      "697     9576                    Mexico\n",
      "698     5061                    Canada\n",
      "699    21672  United States of America\n",
      "\n",
      "[695 rows x 2 columns]\n"
     ]
    }
   ],
   "source": [
    "df4 = df.loc[:, ['Revenue', 'Country']]\n",
    "print(df4)"
   ]
  },
  {
   "cell_type": "code",
   "execution_count": 57,
   "id": "ce292024",
   "metadata": {},
   "outputs": [
    {
     "name": "stdout",
     "output_type": "stream",
     "text": [
      "Country\n",
      "United States of America    27268905\n",
      "Canada                      26931164\n",
      "France                      25707499\n",
      "Germany                     24821880\n",
      "Mexico                      22308185\n",
      "Name: Revenue, dtype: int32\n"
     ]
    }
   ],
   "source": [
    "df4=df.groupby(['Country'])['Revenue'].sum().sort_values(ascending=False).head()\n",
    "print(df4)"
   ]
  },
  {
   "cell_type": "markdown",
   "id": "48b91312",
   "metadata": {},
   "source": [
    "##### TASK2. Revenue for each country (descending order)"
   ]
  },
  {
   "cell_type": "code",
   "execution_count": 58,
   "id": "0d12c141",
   "metadata": {},
   "outputs": [
    {
     "name": "stdout",
     "output_type": "stream",
     "text": [
      "     Revenue     Product \n",
      "0      32360   Carretera \n",
      "1      26420   Carretera \n",
      "2      32670   Carretera \n",
      "3      13320   Carretera \n",
      "4      37050   Carretera \n",
      "..       ...          ...\n",
      "695   742500    Amarilla \n",
      "696   163800    Amarilla \n",
      "697     9576     Montana \n",
      "698     5061       Paseo \n",
      "699    21672         VTT \n",
      "\n",
      "[695 rows x 2 columns]\n"
     ]
    }
   ],
   "source": [
    "df5 = df.loc[:, ['Revenue', ' Product ']]\n",
    "print(df5)"
   ]
  },
  {
   "cell_type": "code",
   "execution_count": 59,
   "id": "07dc6da4",
   "metadata": {},
   "outputs": [
    {
     "name": "stdout",
     "output_type": "stream",
     "text": [
      " Product \n",
      " Paseo        34996043\n",
      " VTT          21967969\n",
      " Velo         19826601\n",
      " Amarilla     18902880\n",
      " Montana      16406837\n",
      "Name: Revenue, dtype: int32\n"
     ]
    }
   ],
   "source": [
    "df5=df.groupby([' Product '])['Revenue'].sum().sort_values(ascending=False).head()\n",
    "print(df5)"
   ]
  },
  {
   "cell_type": "markdown",
   "id": "d98bfdf2",
   "metadata": {},
   "source": [
    "##### TASK2. Revenue for each product (descending order)"
   ]
  },
  {
   "cell_type": "code",
   "execution_count": null,
   "id": "4e2cc847",
   "metadata": {},
   "outputs": [],
   "source": []
  }
 ],
 "metadata": {
  "kernelspec": {
   "display_name": "Python 3 (ipykernel)",
   "language": "python",
   "name": "python3"
  },
  "language_info": {
   "codemirror_mode": {
    "name": "ipython",
    "version": 3
   },
   "file_extension": ".py",
   "mimetype": "text/x-python",
   "name": "python",
   "nbconvert_exporter": "python",
   "pygments_lexer": "ipython3",
   "version": "3.11.3"
  }
 },
 "nbformat": 4,
 "nbformat_minor": 5
}
