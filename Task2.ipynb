{
 "cells": [
  {
   "cell_type": "code",
   "execution_count": 55,
   "id": "8d01717c",
   "metadata": {},
   "outputs": [
    {
     "name": "stdout",
     "output_type": "stream",
     "text": [
      "Defaulting to user installation because normal site-packages is not writeable\n",
      "Requirement already satisfied: pandas in c:\\programdata\\anaconda3\\lib\\site-packages (1.5.3)\n",
      "Requirement already satisfied: python-dateutil>=2.8.1 in c:\\programdata\\anaconda3\\lib\\site-packages (from pandas) (2.8.2)\n",
      "Requirement already satisfied: pytz>=2020.1 in c:\\programdata\\anaconda3\\lib\\site-packages (from pandas) (2022.7)\n",
      "Requirement already satisfied: numpy>=1.21.0 in c:\\programdata\\anaconda3\\lib\\site-packages (from pandas) (1.24.3)\n",
      "Requirement already satisfied: six>=1.5 in c:\\programdata\\anaconda3\\lib\\site-packages (from python-dateutil>=2.8.1->pandas) (1.16.0)\n",
      "Note: you may need to restart the kernel to use updated packages.\n"
     ]
    }
   ],
   "source": [
    "pip install pandas"
   ]
  },
  {
   "cell_type": "code",
   "execution_count": 56,
   "id": "48a3f7b2",
   "metadata": {},
   "outputs": [],
   "source": [
    "import pandas as pd \n",
    "import matplotlib.pyplot as plt\n",
    "import numpy as np\n",
    "\n",
    "df = pd.read_csv('Finance_dataset.csv')"
   ]
  },
  {
   "cell_type": "code",
   "execution_count": 57,
   "id": "60e6d5c5",
   "metadata": {},
   "outputs": [
    {
     "data": {
      "text/html": [
       "<div>\n",
       "<style scoped>\n",
       "    .dataframe tbody tr th:only-of-type {\n",
       "        vertical-align: middle;\n",
       "    }\n",
       "\n",
       "    .dataframe tbody tr th {\n",
       "        vertical-align: top;\n",
       "    }\n",
       "\n",
       "    .dataframe thead th {\n",
       "        text-align: right;\n",
       "    }\n",
       "</style>\n",
       "<table border=\"1\" class=\"dataframe\">\n",
       "  <thead>\n",
       "    <tr style=\"text-align: right;\">\n",
       "      <th></th>\n",
       "      <th>Segment</th>\n",
       "      <th>Country</th>\n",
       "      <th>Product</th>\n",
       "      <th>Discount Band</th>\n",
       "      <th>Units Sold</th>\n",
       "      <th>Manufacturing Price</th>\n",
       "      <th>Sale Price</th>\n",
       "      <th>Gross Sales</th>\n",
       "      <th>Discounts</th>\n",
       "      <th>Sales</th>\n",
       "      <th>COGS</th>\n",
       "      <th>Profit</th>\n",
       "      <th>Date</th>\n",
       "      <th>Month Number</th>\n",
       "      <th>Month Name</th>\n",
       "      <th>Year</th>\n",
       "    </tr>\n",
       "  </thead>\n",
       "  <tbody>\n",
       "    <tr>\n",
       "      <th>0</th>\n",
       "      <td>Government</td>\n",
       "      <td>Canada</td>\n",
       "      <td>Carretera</td>\n",
       "      <td>None</td>\n",
       "      <td>$1,618.50</td>\n",
       "      <td>$3.00</td>\n",
       "      <td>$20.00</td>\n",
       "      <td>$32,370.00</td>\n",
       "      <td>$-</td>\n",
       "      <td>$32,370.00</td>\n",
       "      <td>$16,185.00</td>\n",
       "      <td>$16,185.00</td>\n",
       "      <td>01/01/2014</td>\n",
       "      <td>1</td>\n",
       "      <td>January</td>\n",
       "      <td>2014</td>\n",
       "    </tr>\n",
       "    <tr>\n",
       "      <th>1</th>\n",
       "      <td>Government</td>\n",
       "      <td>Germany</td>\n",
       "      <td>Carretera</td>\n",
       "      <td>None</td>\n",
       "      <td>$1,321.00</td>\n",
       "      <td>$3.00</td>\n",
       "      <td>$20.00</td>\n",
       "      <td>$26,420.00</td>\n",
       "      <td>$-</td>\n",
       "      <td>$26,420.00</td>\n",
       "      <td>$13,210.00</td>\n",
       "      <td>$13,210.00</td>\n",
       "      <td>01/01/2014</td>\n",
       "      <td>1</td>\n",
       "      <td>January</td>\n",
       "      <td>2014</td>\n",
       "    </tr>\n",
       "    <tr>\n",
       "      <th>2</th>\n",
       "      <td>Midmarket</td>\n",
       "      <td>France</td>\n",
       "      <td>Carretera</td>\n",
       "      <td>None</td>\n",
       "      <td>$2,178.00</td>\n",
       "      <td>$3.00</td>\n",
       "      <td>$15.00</td>\n",
       "      <td>$32,670.00</td>\n",
       "      <td>$-</td>\n",
       "      <td>$32,670.00</td>\n",
       "      <td>$21,780.00</td>\n",
       "      <td>$10,890.00</td>\n",
       "      <td>01/06/2014</td>\n",
       "      <td>6</td>\n",
       "      <td>June</td>\n",
       "      <td>2014</td>\n",
       "    </tr>\n",
       "    <tr>\n",
       "      <th>3</th>\n",
       "      <td>Midmarket</td>\n",
       "      <td>Germany</td>\n",
       "      <td>Carretera</td>\n",
       "      <td>None</td>\n",
       "      <td>$888.00</td>\n",
       "      <td>$3.00</td>\n",
       "      <td>$15.00</td>\n",
       "      <td>$13,320.00</td>\n",
       "      <td>$-</td>\n",
       "      <td>$13,320.00</td>\n",
       "      <td>$8,880.00</td>\n",
       "      <td>$4,440.00</td>\n",
       "      <td>01/06/2014</td>\n",
       "      <td>6</td>\n",
       "      <td>June</td>\n",
       "      <td>2014</td>\n",
       "    </tr>\n",
       "    <tr>\n",
       "      <th>4</th>\n",
       "      <td>Midmarket</td>\n",
       "      <td>Mexico</td>\n",
       "      <td>Carretera</td>\n",
       "      <td>None</td>\n",
       "      <td>$2,470.00</td>\n",
       "      <td>$3.00</td>\n",
       "      <td>$15.00</td>\n",
       "      <td>$37,050.00</td>\n",
       "      <td>$-</td>\n",
       "      <td>$37,050.00</td>\n",
       "      <td>$24,700.00</td>\n",
       "      <td>$12,350.00</td>\n",
       "      <td>01/06/2014</td>\n",
       "      <td>6</td>\n",
       "      <td>June</td>\n",
       "      <td>2014</td>\n",
       "    </tr>\n",
       "  </tbody>\n",
       "</table>\n",
       "</div>"
      ],
      "text/plain": [
       "      Segment  Country     Product   Discount Band   Units Sold   \\\n",
       "0  Government   Canada   Carretera            None    $1,618.50    \n",
       "1  Government  Germany   Carretera            None    $1,321.00    \n",
       "2   Midmarket   France   Carretera            None    $2,178.00    \n",
       "3   Midmarket  Germany   Carretera            None      $888.00    \n",
       "4   Midmarket   Mexico   Carretera            None    $2,470.00    \n",
       "\n",
       "   Manufacturing Price   Sale Price   Gross Sales   Discounts         Sales   \\\n",
       "0                $3.00       $20.00    $32,370.00        $-      $32,370.00    \n",
       "1                $3.00       $20.00    $26,420.00        $-      $26,420.00    \n",
       "2                $3.00       $15.00    $32,670.00        $-      $32,670.00    \n",
       "3                $3.00       $15.00    $13,320.00        $-      $13,320.00    \n",
       "4                $3.00       $15.00    $37,050.00        $-      $37,050.00    \n",
       "\n",
       "          COGS        Profit         Date  Month Number  Month Name   Year  \n",
       "0   $16,185.00    $16,185.00   01/01/2014             1     January   2014  \n",
       "1   $13,210.00    $13,210.00   01/01/2014             1     January   2014  \n",
       "2   $21,780.00    $10,890.00   01/06/2014             6        June   2014  \n",
       "3    $8,880.00     $4,440.00   01/06/2014             6        June   2014  \n",
       "4   $24,700.00    $12,350.00   01/06/2014             6        June   2014  "
      ]
     },
     "execution_count": 57,
     "metadata": {},
     "output_type": "execute_result"
    }
   ],
   "source": [
    "df.head()"
   ]
  },
  {
   "cell_type": "code",
   "execution_count": 58,
   "id": "6dd6b4d0",
   "metadata": {},
   "outputs": [
    {
     "data": {
      "text/plain": [
       "(700, 16)"
      ]
     },
     "execution_count": 58,
     "metadata": {},
     "output_type": "execute_result"
    }
   ],
   "source": [
    "df.shape"
   ]
  },
  {
   "cell_type": "code",
   "execution_count": 59,
   "id": "fd7f2dc6",
   "metadata": {},
   "outputs": [
    {
     "data": {
      "text/plain": [
       "Index(['Segment', 'Country', ' Product ', ' Discount Band ', ' Units Sold ',\n",
       "       ' Manufacturing Price ', ' Sale Price ', ' Gross Sales ', ' Discounts ',\n",
       "       '  Sales ', ' COGS ', ' Profit ', 'Date', 'Month Number',\n",
       "       ' Month Name ', 'Year'],\n",
       "      dtype='object')"
      ]
     },
     "execution_count": 59,
     "metadata": {},
     "output_type": "execute_result"
    }
   ],
   "source": [
    "df.columns"
   ]
  },
  {
   "cell_type": "code",
   "execution_count": 60,
   "id": "59b0ac8a",
   "metadata": {},
   "outputs": [
    {
     "data": {
      "text/plain": [
       "Segment                  object\n",
       "Country                  object\n",
       " Product                 object\n",
       " Discount Band           object\n",
       " Units Sold              object\n",
       " Manufacturing Price     object\n",
       " Sale Price              object\n",
       " Gross Sales             object\n",
       " Discounts               object\n",
       "  Sales                  object\n",
       " COGS                    object\n",
       " Profit                  object\n",
       "Date                     object\n",
       "Month Number              int64\n",
       " Month Name              object\n",
       "Year                      int64\n",
       "dtype: object"
      ]
     },
     "execution_count": 60,
     "metadata": {},
     "output_type": "execute_result"
    }
   ],
   "source": [
    "df.dtypes"
   ]
  },
  {
   "cell_type": "code",
   "execution_count": 61,
   "id": "8befb45a",
   "metadata": {},
   "outputs": [],
   "source": [
    "duplicated_rows = df[df.duplicated()]\n",
    "data_cleaned = df.drop_duplicates()"
   ]
  },
  {
   "cell_type": "code",
   "execution_count": 62,
   "id": "391e7155",
   "metadata": {},
   "outputs": [
    {
     "name": "stdout",
     "output_type": "stream",
     "text": [
      "              Segment                   Country     Product   Discount Band   \\\n",
      "0          Government                    Canada   Carretera            None    \n",
      "1          Government                   Germany   Carretera            None    \n",
      "2           Midmarket                    France   Carretera            None    \n",
      "3           Midmarket                   Germany   Carretera            None    \n",
      "4           Midmarket                    Mexico   Carretera            None    \n",
      "..                ...                       ...          ...             ...   \n",
      "695    Small Business                    France    Amarilla            High    \n",
      "696    Small Business                    Mexico    Amarilla            High    \n",
      "697        Government                    Mexico     Montana            High    \n",
      "698        Government                    Canada       Paseo            High    \n",
      "699  Channel Partners  United States of America         VTT            High    \n",
      "\n",
      "     Units Sold   Manufacturing Price   Sale Price     Gross Sales   \\\n",
      "0     $1,618.50                 $3.00       $20.00      $32,370.00    \n",
      "1     $1,321.00                 $3.00       $20.00      $26,420.00    \n",
      "2     $2,178.00                 $3.00       $15.00      $32,670.00    \n",
      "3       $888.00                 $3.00       $15.00      $13,320.00    \n",
      "4     $2,470.00                 $3.00       $15.00      $37,050.00    \n",
      "..           ...                   ...          ...             ...   \n",
      "695   $2,475.00               $260.00      $300.00    $7,42,500.00    \n",
      "696     $546.00               $260.00      $300.00    $1,63,800.00    \n",
      "697   $1,368.00                 $5.00        $7.00       $9,576.00    \n",
      "698     $723.00                $10.00        $7.00       $5,061.00    \n",
      "699   $1,806.00               $250.00       $12.00      $21,672.00    \n",
      "\n",
      "         Discounts        Sales            COGS      Profit         Date  \\\n",
      "0             $-       32370.00      $16,185.00    16185.00   01/01/2014   \n",
      "1             $-       26420.00      $13,210.00    13210.00   01/01/2014   \n",
      "2             $-       32670.00      $21,780.00    10890.00   01/06/2014   \n",
      "3             $-       13320.00       $8,880.00     4440.00   01/06/2014   \n",
      "4             $-       37050.00      $24,700.00    12350.00   01/06/2014   \n",
      "..              ...          ...             ...         ...         ...   \n",
      "695   $1,11,375.00    631125.00    $6,18,750.00    12375.00   01/03/2014   \n",
      "696     $24,570.00    139230.00    $1,36,500.00     2730.00   01/10/2014   \n",
      "697      $1,436.40      8139.60       $6,840.00     1299.60   01/02/2014   \n",
      "698        $759.15      4301.85       $3,615.00      686.85   01/04/2014   \n",
      "699      $3,250.80     18421.20       $5,418.00    13003.20   01/05/2014   \n",
      "\n",
      "     Month Number  Month Name   Year  \n",
      "0               1     January   2014  \n",
      "1               1     January   2014  \n",
      "2               6        June   2014  \n",
      "3               6        June   2014  \n",
      "4               6        June   2014  \n",
      "..            ...          ...   ...  \n",
      "695             3       March   2014  \n",
      "696            10     October   2014  \n",
      "697             2    February   2014  \n",
      "698             4       April   2014  \n",
      "699             5         May   2014  \n",
      "\n",
      "[700 rows x 16 columns]\n"
     ]
    },
    {
     "name": "stderr",
     "output_type": "stream",
     "text": [
      "C:\\Users\\Vidmantė\\AppData\\Local\\Temp\\ipykernel_11056\\1117056723.py:1: FutureWarning: The default value of regex will change from True to False in a future version. In addition, single character regular expressions will *not* be treated as literal strings when regex=True.\n",
      "  df['  Sales '] = df['  Sales '].str.replace(',', '').str.replace('$', '').str.replace('-', '').str.replace('(', '').str.replace(')', '')\n",
      "C:\\Users\\Vidmantė\\AppData\\Local\\Temp\\ipykernel_11056\\1117056723.py:2: FutureWarning: The default value of regex will change from True to False in a future version. In addition, single character regular expressions will *not* be treated as literal strings when regex=True.\n",
      "  df[' Profit '] = df[' Profit '].str.replace(',', '').str.replace('$', '').str.replace('-', '').str.replace('(', '').str.replace(')', '').str.replace('    ', '')\n"
     ]
    }
   ],
   "source": [
    "df['  Sales '] = df['  Sales '].str.replace(',', '').str.replace('$', '').str.replace('-', '').str.replace('(', '').str.replace(')', '')\n",
    "df[' Profit '] = df[' Profit '].str.replace(',', '').str.replace('$', '').str.replace('-', '').str.replace('(', '').str.replace(')', '').str.replace('    ', '')\n",
    "print(df)"
   ]
  },
  {
   "cell_type": "code",
   "execution_count": 63,
   "id": "0ba5bbcb",
   "metadata": {},
   "outputs": [],
   "source": [
    "numeric_df = df.apply(pd.to_numeric, errors='coerce')"
   ]
  },
  {
   "cell_type": "code",
   "execution_count": 64,
   "id": "ea07beef",
   "metadata": {},
   "outputs": [
    {
     "name": "stdout",
     "output_type": "stream",
     "text": [
      "False\n"
     ]
    }
   ],
   "source": [
    "is_all_numeric = not numeric_df.isnull().values.any()\n",
    "print(is_all_numeric)"
   ]
  },
  {
   "cell_type": "code",
   "execution_count": 65,
   "id": "b4d7ad9d",
   "metadata": {},
   "outputs": [],
   "source": [
    "df[' Profit '].replace('', np.nan, inplace=True)"
   ]
  },
  {
   "cell_type": "code",
   "execution_count": 66,
   "id": "7cb714c4",
   "metadata": {},
   "outputs": [],
   "source": [
    "df[' Profit '] = df[' Profit '].astype(float)\n",
    "df['  Sales '] = df['  Sales '].astype(float)"
   ]
  },
  {
   "cell_type": "code",
   "execution_count": 67,
   "id": "7e4ab4ad",
   "metadata": {},
   "outputs": [
    {
     "name": "stdout",
     "output_type": "stream",
     "text": [
      "              Segment                   Country     Product   Discount Band   \\\n",
      "0          Government                    Canada   Carretera            None    \n",
      "1          Government                   Germany   Carretera            None    \n",
      "2           Midmarket                    France   Carretera            None    \n",
      "3           Midmarket                   Germany   Carretera            None    \n",
      "4           Midmarket                    Mexico   Carretera            None    \n",
      "..                ...                       ...          ...             ...   \n",
      "695    Small Business                    France    Amarilla            High    \n",
      "696    Small Business                    Mexico    Amarilla            High    \n",
      "697        Government                    Mexico     Montana            High    \n",
      "698        Government                    Canada       Paseo            High    \n",
      "699  Channel Partners  United States of America         VTT            High    \n",
      "\n",
      "     Units Sold   Manufacturing Price   Sale Price     Gross Sales   \\\n",
      "0     $1,618.50                 $3.00       $20.00      $32,370.00    \n",
      "1     $1,321.00                 $3.00       $20.00      $26,420.00    \n",
      "2     $2,178.00                 $3.00       $15.00      $32,670.00    \n",
      "3       $888.00                 $3.00       $15.00      $13,320.00    \n",
      "4     $2,470.00                 $3.00       $15.00      $37,050.00    \n",
      "..           ...                   ...          ...             ...   \n",
      "695   $2,475.00               $260.00      $300.00    $7,42,500.00    \n",
      "696     $546.00               $260.00      $300.00    $1,63,800.00    \n",
      "697   $1,368.00                 $5.00        $7.00       $9,576.00    \n",
      "698     $723.00                $10.00        $7.00       $5,061.00    \n",
      "699   $1,806.00               $250.00       $12.00      $21,672.00    \n",
      "\n",
      "         Discounts      Sales            COGS    Profit         Date  \\\n",
      "0             $-      32370.00     $16,185.00   16185.00  01/01/2014   \n",
      "1             $-      26420.00     $13,210.00   13210.00  01/01/2014   \n",
      "2             $-      32670.00     $21,780.00   10890.00  01/06/2014   \n",
      "3             $-      13320.00      $8,880.00    4440.00  01/06/2014   \n",
      "4             $-      37050.00     $24,700.00   12350.00  01/06/2014   \n",
      "..              ...        ...             ...       ...         ...   \n",
      "695   $1,11,375.00   631125.00   $6,18,750.00   12375.00  01/03/2014   \n",
      "696     $24,570.00   139230.00   $1,36,500.00    2730.00  01/10/2014   \n",
      "697      $1,436.40     8139.60      $6,840.00    1299.60  01/02/2014   \n",
      "698        $759.15     4301.85      $3,615.00     686.85  01/04/2014   \n",
      "699      $3,250.80    18421.20      $5,418.00   13003.20  01/05/2014   \n",
      "\n",
      "     Month Number  Month Name   Year  \n",
      "0               1     January   2014  \n",
      "1               1     January   2014  \n",
      "2               6        June   2014  \n",
      "3               6        June   2014  \n",
      "4               6        June   2014  \n",
      "..            ...          ...   ...  \n",
      "695             3       March   2014  \n",
      "696            10     October   2014  \n",
      "697             2    February   2014  \n",
      "698             4       April   2014  \n",
      "699             5         May   2014  \n",
      "\n",
      "[695 rows x 16 columns]\n"
     ]
    }
   ],
   "source": [
    "df.dropna(subset=[' Profit '], inplace=True)\n",
    "print (df)"
   ]
  },
  {
   "cell_type": "code",
   "execution_count": 68,
   "id": "77434e5b",
   "metadata": {},
   "outputs": [
    {
     "data": {
      "text/html": [
       "<div>\n",
       "<style scoped>\n",
       "    .dataframe tbody tr th:only-of-type {\n",
       "        vertical-align: middle;\n",
       "    }\n",
       "\n",
       "    .dataframe tbody tr th {\n",
       "        vertical-align: top;\n",
       "    }\n",
       "\n",
       "    .dataframe thead th {\n",
       "        text-align: right;\n",
       "    }\n",
       "</style>\n",
       "<table border=\"1\" class=\"dataframe\">\n",
       "  <thead>\n",
       "    <tr style=\"text-align: right;\">\n",
       "      <th></th>\n",
       "      <th>Sales</th>\n",
       "      <th>Profit</th>\n",
       "      <th>Month Number</th>\n",
       "      <th>Year</th>\n",
       "    </tr>\n",
       "  </thead>\n",
       "  <tbody>\n",
       "    <tr>\n",
       "      <th>count</th>\n",
       "      <td>6.950000e+02</td>\n",
       "      <td>695.000000</td>\n",
       "      <td>695.000000</td>\n",
       "      <td>695.000000</td>\n",
       "    </tr>\n",
       "    <tr>\n",
       "      <th>mean</th>\n",
       "      <td>1.695977e+05</td>\n",
       "      <td>26544.380993</td>\n",
       "      <td>7.902158</td>\n",
       "      <td>2013.748201</td>\n",
       "    </tr>\n",
       "    <tr>\n",
       "      <th>std</th>\n",
       "      <td>2.374409e+05</td>\n",
       "      <td>41515.104658</td>\n",
       "      <td>3.373773</td>\n",
       "      <td>0.434359</td>\n",
       "    </tr>\n",
       "    <tr>\n",
       "      <th>min</th>\n",
       "      <td>1.655080e+03</td>\n",
       "      <td>285.600000</td>\n",
       "      <td>1.000000</td>\n",
       "      <td>2013.000000</td>\n",
       "    </tr>\n",
       "    <tr>\n",
       "      <th>25%</th>\n",
       "      <td>1.585118e+04</td>\n",
       "      <td>4013.630000</td>\n",
       "      <td>6.000000</td>\n",
       "      <td>2013.000000</td>\n",
       "    </tr>\n",
       "    <tr>\n",
       "      <th>50%</th>\n",
       "      <td>3.473610e+04</td>\n",
       "      <td>11135.600000</td>\n",
       "      <td>9.000000</td>\n",
       "      <td>2014.000000</td>\n",
       "    </tr>\n",
       "    <tr>\n",
       "      <th>75%</th>\n",
       "      <td>2.615750e+05</td>\n",
       "      <td>23918.500000</td>\n",
       "      <td>10.000000</td>\n",
       "      <td>2014.000000</td>\n",
       "    </tr>\n",
       "    <tr>\n",
       "      <th>max</th>\n",
       "      <td>1.159200e+06</td>\n",
       "      <td>262200.000000</td>\n",
       "      <td>12.000000</td>\n",
       "      <td>2014.000000</td>\n",
       "    </tr>\n",
       "  </tbody>\n",
       "</table>\n",
       "</div>"
      ],
      "text/plain": [
       "             Sales         Profit   Month Number         Year\n",
       "count  6.950000e+02     695.000000    695.000000   695.000000\n",
       "mean   1.695977e+05   26544.380993      7.902158  2013.748201\n",
       "std    2.374409e+05   41515.104658      3.373773     0.434359\n",
       "min    1.655080e+03     285.600000      1.000000  2013.000000\n",
       "25%    1.585118e+04    4013.630000      6.000000  2013.000000\n",
       "50%    3.473610e+04   11135.600000      9.000000  2014.000000\n",
       "75%    2.615750e+05   23918.500000     10.000000  2014.000000\n",
       "max    1.159200e+06  262200.000000     12.000000  2014.000000"
      ]
     },
     "execution_count": 68,
     "metadata": {},
     "output_type": "execute_result"
    }
   ],
   "source": [
    "df.describe()"
   ]
  },
  {
   "cell_type": "code",
   "execution_count": 69,
   "id": "d554a3e2",
   "metadata": {},
   "outputs": [],
   "source": [
    "df[' Profit '] = df[' Profit '].astype(int)\n",
    "df['  Sales '] = df['  Sales '].astype(int)"
   ]
  },
  {
   "cell_type": "code",
   "execution_count": 70,
   "id": "78c80870",
   "metadata": {},
   "outputs": [
    {
     "name": "stdout",
     "output_type": "stream",
     "text": [
      "              Segment                   Country     Product   Discount Band   \\\n",
      "0          Government                    Canada   Carretera            None    \n",
      "1          Government                   Germany   Carretera            None    \n",
      "2           Midmarket                    France   Carretera            None    \n",
      "3           Midmarket                   Germany   Carretera            None    \n",
      "4           Midmarket                    Mexico   Carretera            None    \n",
      "..                ...                       ...          ...             ...   \n",
      "695    Small Business                    France    Amarilla            High    \n",
      "696    Small Business                    Mexico    Amarilla            High    \n",
      "697        Government                    Mexico     Montana            High    \n",
      "698        Government                    Canada       Paseo            High    \n",
      "699  Channel Partners  United States of America         VTT            High    \n",
      "\n",
      "     Units Sold   Manufacturing Price   Sale Price     Gross Sales   \\\n",
      "0     $1,618.50                 $3.00       $20.00      $32,370.00    \n",
      "1     $1,321.00                 $3.00       $20.00      $26,420.00    \n",
      "2     $2,178.00                 $3.00       $15.00      $32,670.00    \n",
      "3       $888.00                 $3.00       $15.00      $13,320.00    \n",
      "4     $2,470.00                 $3.00       $15.00      $37,050.00    \n",
      "..           ...                   ...          ...             ...   \n",
      "695   $2,475.00               $260.00      $300.00    $7,42,500.00    \n",
      "696     $546.00               $260.00      $300.00    $1,63,800.00    \n",
      "697   $1,368.00                 $5.00        $7.00       $9,576.00    \n",
      "698     $723.00                $10.00        $7.00       $5,061.00    \n",
      "699   $1,806.00               $250.00       $12.00      $21,672.00    \n",
      "\n",
      "         Discounts     Sales            COGS    Profit        Date  \\\n",
      "0             $-        32370     $16,185.00      16185 2014-01-01   \n",
      "1             $-        26420     $13,210.00      13210 2014-01-01   \n",
      "2             $-        32670     $21,780.00      10890 2014-01-06   \n",
      "3             $-        13320      $8,880.00       4440 2014-01-06   \n",
      "4             $-        37050     $24,700.00      12350 2014-01-06   \n",
      "..              ...       ...             ...       ...        ...   \n",
      "695   $1,11,375.00     631125   $6,18,750.00      12375 2014-01-03   \n",
      "696     $24,570.00     139230   $1,36,500.00       2730 2014-01-10   \n",
      "697      $1,436.40       8139      $6,840.00       1299 2014-01-02   \n",
      "698        $759.15       4301      $3,615.00        686 2014-01-04   \n",
      "699      $3,250.80      18421      $5,418.00      13003 2014-01-05   \n",
      "\n",
      "     Month Number  Month Name   Year     date_eu  \n",
      "0               1     January   2014  2014/01/01  \n",
      "1               1     January   2014  2014/01/01  \n",
      "2               6        June   2014  2014/06/01  \n",
      "3               6        June   2014  2014/06/01  \n",
      "4               6        June   2014  2014/06/01  \n",
      "..            ...          ...   ...         ...  \n",
      "695             3       March   2014  2014/03/01  \n",
      "696            10     October   2014  2014/10/01  \n",
      "697             2    February   2014  2014/02/01  \n",
      "698             4       April   2014  2014/04/01  \n",
      "699             5         May   2014  2014/05/01  \n",
      "\n",
      "[695 rows x 17 columns]\n"
     ]
    }
   ],
   "source": [
    "df['Date'] = pd.to_datetime(df['Date'])\n",
    "df['date_eu'] = df['Date'].dt.strftime('%Y/%d/%m')\n",
    "print(df)"
   ]
  },
  {
   "cell_type": "code",
   "execution_count": 71,
   "id": "34b315b6",
   "metadata": {},
   "outputs": [],
   "source": [
    "import matplotlib.pyplot as plt\n",
    "import seaborn as sns"
   ]
  },
  {
   "cell_type": "code",
   "execution_count": 72,
   "id": "6d43f393",
   "metadata": {},
   "outputs": [
    {
     "name": "stdout",
     "output_type": "stream",
     "text": [
      "      Profit   Year     Product \n",
      "0       16185  2014   Carretera \n",
      "1       13210  2014   Carretera \n",
      "2       10890  2014   Carretera \n",
      "3        4440  2014   Carretera \n",
      "4       12350  2014   Carretera \n",
      "..        ...   ...          ...\n",
      "695     12375  2014    Amarilla \n",
      "696      2730  2014    Amarilla \n",
      "697      1299  2014     Montana \n",
      "698       686  2014       Paseo \n",
      "699     13003  2014         VTT \n",
      "\n",
      "[695 rows x 3 columns]\n"
     ]
    }
   ],
   "source": [
    "new_df = df.loc[:, [' Profit ', 'Year', ' Product ']]\n",
    "print(new_df)"
   ]
  },
  {
   "cell_type": "code",
   "execution_count": 73,
   "id": "66c07cc1",
   "metadata": {},
   "outputs": [
    {
     "name": "stdout",
     "output_type": "stream",
     "text": [
      "      Profit   Year     Product \n",
      "0       16185  2014   Carretera \n",
      "1       13210  2014   Carretera \n",
      "2       10890  2014   Carretera \n",
      "3        4440  2014   Carretera \n",
      "4       12350  2014   Carretera \n",
      "..        ...   ...          ...\n",
      "695     12375  2014    Amarilla \n",
      "696      2730  2014    Amarilla \n",
      "697      1299  2014     Montana \n",
      "698       686  2014       Paseo \n",
      "699     13003  2014         VTT \n",
      "\n",
      "[520 rows x 3 columns]\n"
     ]
    }
   ],
   "source": [
    "new_df.drop(new_df[new_df['Year'] == 2013].index, inplace = True)\n",
    "print(new_df)"
   ]
  },
  {
   "cell_type": "code",
   "execution_count": 75,
   "id": "2af800e0",
   "metadata": {},
   "outputs": [
    {
     "name": "stdout",
     "output_type": "stream",
     "text": [
      " Product \n",
      " Paseo         3936875\n",
      " VTT           2318646\n",
      " Amarilla      2251986\n",
      " Carretera     2079153\n",
      " Velo          1837382\n",
      "Name:  Profit , dtype: int32\n"
     ]
    }
   ],
   "source": [
    "df2=new_df.groupby([' Product '])[' Profit '].sum().sort_values(ascending=False).head()\n",
    "print(df2)"
   ]
  },
  {
   "cell_type": "markdown",
   "id": "c3578ff3",
   "metadata": {},
   "source": [
    "##### TASK 4. The most profitable product in 2014 is Paseo."
   ]
  },
  {
   "cell_type": "code",
   "execution_count": null,
   "id": "5c34f578",
   "metadata": {},
   "outputs": [],
   "source": []
  }
 ],
 "metadata": {
  "kernelspec": {
   "display_name": "Python 3 (ipykernel)",
   "language": "python",
   "name": "python3"
  },
  "language_info": {
   "codemirror_mode": {
    "name": "ipython",
    "version": 3
   },
   "file_extension": ".py",
   "mimetype": "text/x-python",
   "name": "python",
   "nbconvert_exporter": "python",
   "pygments_lexer": "ipython3",
   "version": "3.11.3"
  }
 },
 "nbformat": 4,
 "nbformat_minor": 5
}
